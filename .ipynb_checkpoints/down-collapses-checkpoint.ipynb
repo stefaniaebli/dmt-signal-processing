{
 "cells": [
  {
   "cell_type": "code",
   "execution_count": 331,
   "id": "8af8abce",
   "metadata": {},
   "outputs": [],
   "source": [
    "import numpy as np\n",
    "import random\n",
    "import gudhi as gd\n",
    "from matplotlib import pyplot as plt\n",
    "from matplotlib import colors as mcolors\n",
    "from scipy.sparse import diags,coo_matrix\n",
    "from scipy.sparse.linalg import inv\n",
    "import dmtenergy as dmt\n",
    "import dmtvisual as dmtvis\n",
    "import matplotlib as mpl\n",
    "import importlib\n",
    "\n",
    "dmt = importlib.reload(dmt)\n",
    "dmtvis = importlib.reload(dmtvis)"
   ]
  },
  {
   "cell_type": "markdown",
   "id": "ba92c238",
   "metadata": {},
   "source": [
    "### Build a toy simplicial complex"
   ]
  },
  {
   "cell_type": "code",
   "execution_count": 332,
   "id": "db96b9f0",
   "metadata": {},
   "outputs": [
    {
     "name": "stdout",
     "output_type": "stream",
     "text": [
      "4 points\n"
     ]
    },
    {
     "data": {
      "image/png": "[encoded data removed]",
      "text/plain": [
       "<Figure size 432x288 with 1 Axes>"
      ]
     },
     "metadata": {
      "needs_background": "light"
     },
     "output_type": "display_data"
    }
   ],
   "source": [
    "points=np.array([[0.2,0.2],[0.8,0.2],[0.5,0.45],[0.5,0.8]])\n",
    "\n",
    "n_points = points.shape[0]\n",
    "print(f'{n_points} points')\n",
    "plt.scatter(*points.T);"
   ]
  },
  {
   "cell_type": "code",
   "execution_count": 333,
   "id": "85f85729",
   "metadata": {},
   "outputs": [],
   "source": [
    "## Build triangle and its associate simplices\n",
    "st=gd.SimplexTree()\n",
    "st.insert([0,2])\n",
    "st.insert([1,2])\n",
    "st.insert([2,3])\n",
    "X=dmt.extract_simplices(st)"
   ]
  },
  {
   "cell_type": "code",
   "execution_count": 334,
   "id": "6f3b56b8",
   "metadata": {},
   "outputs": [
    {
     "data": {
      "text/plain": [
       "<matplotlib.colorbar.Colorbar at 0x7f2ec84bf310>"
      ]
     },
     "execution_count": 334,
     "metadata": {},
     "output_type": "execute_result"
    },
    {
     "data": {
      "image/png": "[encoded data removed]",
      "text/plain": [
       "<Figure size 720x432 with 2 Axes>"
      ]
     },
     "metadata": {
      "needs_background": "light"
     },
     "output_type": "display_data"
    }
   ],
   "source": [
    "s0 = ['black']*len(X[0])#np.zeros(len(simplices[0]))\n",
    "s1 = np.random.uniform(size=len(X[1]))\n",
    "s1=np.array([1,2,3])\n",
    "#s2 =np.random.uniform(size=len(X[2]))\n",
    "fig = plt.figure(figsize=(10,6))\n",
    "ax = fig.add_subplot(111)\n",
    "dmtvis.plot_nodes(s0, points,ax, zorder=3,s=100)\n",
    "dmtvis.plot_edges(s1.copy(),points,X, ax, zorder=2,linewidths=2)\n",
    "#dmtvis.plot_triangles_plain('lavenderblush',points,X, ax, zorder=1)\n",
    "plt.colorbar(ax.collections[0], ax=ax)"
   ]
  },
  {
   "cell_type": "code",
   "execution_count": 335,
   "id": "b068d1ca",
   "metadata": {},
   "outputs": [
    {
     "name": "stdout",
     "output_type": "stream",
     "text": [
      "[0. 1. 4.]\n",
      "[ 1.  1. -1.]\n"
     ]
    }
   ],
   "source": [
    "kX=dmt.build_boundaries(X)\n",
    "rs=dmt.phipsi(X=X,kX=kX,collapses=[[[2],[0,2]]],dim_collapses=[0],signal=s1,type_collapse='down')\n",
    "print(rs)\n",
    "print(s1-rs)"
   ]
  },
  {
   "cell_type": "code",
   "execution_count": 336,
   "id": "c603e17d",
   "metadata": {},
   "outputs": [
    {
     "data": {
      "text/plain": [
       "2.9999999999999996"
      ]
     },
     "execution_count": 336,
     "metadata": {},
     "output_type": "execute_result"
    }
   ],
   "source": [
    "dmt.loss_signal(X=X,kX=kX,collapses=[[[2],[0,2]]],dim_collapses=[0],signal=s1,type_collapse='down')"
   ]
  },
  {
   "cell_type": "code",
   "execution_count": 337,
   "id": "816ca5e1",
   "metadata": {},
   "outputs": [
    {
     "ename": "TypeError",
     "evalue": "'numpy.ndarray' object is not callable",
     "output_type": "error",
     "traceback": [
      "\u001b[0;31m--------------------------------------------------------------\u001b[0m",
      "\u001b[0;31mTypeError\u001b[0m                    Traceback (most recent call last)",
      "\u001b[0;32m<ipython-input-337-3467c6ec78d4>\u001b[0m in \u001b[0;36m<module>\u001b[0;34m\u001b[0m\n\u001b[0;32m----> 1\u001b[0;31m \u001b[0mdmt\u001b[0m\u001b[0;34m.\u001b[0m\u001b[0mbest_down_collapse\u001b[0m\u001b[0;34m(\u001b[0m\u001b[0mX\u001b[0m\u001b[0;34m=\u001b[0m\u001b[0mX\u001b[0m\u001b[0;34m,\u001b[0m\u001b[0mkX\u001b[0m\u001b[0;34m=\u001b[0m\u001b[0mkX\u001b[0m\u001b[0;34m,\u001b[0m\u001b[0mdimq\u001b[0m\u001b[0;34m=\u001b[0m\u001b[0;36m0\u001b[0m\u001b[0;34m,\u001b[0m\u001b[0msignal\u001b[0m\u001b[0;34m=\u001b[0m\u001b[0ms1\u001b[0m\u001b[0;34m)\u001b[0m\u001b[0;34m\u001b[0m\u001b[0;34m\u001b[0m\u001b[0m\n\u001b[0m",
      "\u001b[0;32m~/Dropbox/pooling_simplicial_neural_networks/dmtenergy.py\u001b[0m in \u001b[0;36mbest_down_collapse\u001b[0;34m(X, kX, dimq, signal)\u001b[0m\n\u001b[1;32m    722\u001b[0m         \u001b[0mnotnan_sig\u001b[0m\u001b[0;34m=\u001b[0m\u001b[0msig_WQ\u001b[0m\u001b[0;34m[\u001b[0m\u001b[0;34m~\u001b[0m\u001b[0mnp\u001b[0m\u001b[0;34m.\u001b[0m\u001b[0misnan\u001b[0m\u001b[0;34m(\u001b[0m\u001b[0msig_WQ\u001b[0m\u001b[0;34m)\u001b[0m\u001b[0;34m]\u001b[0m\u001b[0;34m\u001b[0m\u001b[0;34m\u001b[0m\u001b[0m\n\u001b[1;32m    723\u001b[0m         \u001b[0mmin_sWQ\u001b[0m\u001b[0;34m=\u001b[0m\u001b[0mnp\u001b[0m\u001b[0;34m.\u001b[0m\u001b[0mmin\u001b[0m\u001b[0;34m(\u001b[0m\u001b[0mnotnan_sig\u001b[0m\u001b[0;34m)\u001b[0m\u001b[0;34m\u001b[0m\u001b[0;34m\u001b[0m\u001b[0m\n\u001b[0;32m--> 724\u001b[0;31m         \u001b[0mnorm_dQ\u001b[0m\u001b[0;34m=\u001b[0m\u001b[0mnp\u001b[0m\u001b[0;34m.\u001b[0m\u001b[0mlinalg\u001b[0m\u001b[0;34m.\u001b[0m\u001b[0mnorm\u001b[0m\u001b[0;34m(\u001b[0m\u001b[0mBq\u001b[0m\u001b[0;34m.\u001b[0m\u001b[0mtocsr\u001b[0m\u001b[0;34m(\u001b[0m\u001b[0;34m)\u001b[0m\u001b[0;34m[\u001b[0m\u001b[0mQ\u001b[0m\u001b[0;34m,\u001b[0m\u001b[0mind\u001b[0m\u001b[0;34m(\u001b[0m\u001b[0mQ\u001b[0m\u001b[0;34m)\u001b[0m\u001b[0;34m]\u001b[0m\u001b[0;34m.\u001b[0m\u001b[0mtodense\u001b[0m\u001b[0;34m(\u001b[0m\u001b[0;34m)\u001b[0m\u001b[0;34m)\u001b[0m\u001b[0;34m**\u001b[0m\u001b[0;36m2\u001b[0m\u001b[0;34m\u001b[0m\u001b[0;34m\u001b[0m\u001b[0m\n\u001b[0m\u001b[1;32m    725\u001b[0m         \u001b[0mpossible_min_value\u001b[0m\u001b[0;34m.\u001b[0m\u001b[0mappend\u001b[0m\u001b[0;34m(\u001b[0m\u001b[0mmin_sWQ\u001b[0m\u001b[0;34m*\u001b[0m\u001b[0mnorm_dQ\u001b[0m\u001b[0;34m)\u001b[0m\u001b[0;34m\u001b[0m\u001b[0;34m\u001b[0m\u001b[0m\n\u001b[1;32m    726\u001b[0m \u001b[0;34m\u001b[0m\u001b[0m\n",
      "\u001b[0;31mTypeError\u001b[0m: 'numpy.ndarray' object is not callable"
     ]
    }
   ],
   "source": [
    "dmt.best_down_collapse(X=X,kX=kX,dimq=0,signal=s1)"
   ]
  },
  {
   "cell_type": "code",
   "execution_count": 345,
   "id": "3a19c955",
   "metadata": {},
   "outputs": [
    {
     "name": "stdout",
     "output_type": "stream",
     "text": [
      "[list([0]) list([1]) list([0, 1, 2]) list([2])]\n"
     ]
    }
   ],
   "source": [
    "dimq=0\n",
    "s=np.array(s1)**2\n",
    "Bq=kX[dimq]\n",
    "BT=Bq.copy()\n",
    "C=BT.tolil()\n",
    "ind=C.rows\n",
    "\n",
    "possible_min_q=[]\n",
    "possible_min_value=[]\n",
    "print(ind)"
   ]
  },
  {
   "cell_type": "code",
   "execution_count": 346,
   "id": "eae69b28",
   "metadata": {},
   "outputs": [
    {
     "name": "stdout",
     "output_type": "stream",
     "text": [
      "[0]\n"
     ]
    },
    {
     "ename": "TypeError",
     "evalue": "'numpy.ndarray' object is not callable",
     "output_type": "error",
     "traceback": [
      "\u001b[0;31m--------------------------------------------------------------\u001b[0m",
      "\u001b[0;31mTypeError\u001b[0m                    Traceback (most recent call last)",
      "\u001b[0;32m<ipython-input-346-770c4bf0b0e8>\u001b[0m in \u001b[0;36m<module>\u001b[0;34m\u001b[0m\n\u001b[1;32m      6\u001b[0m     \u001b[0mnotnan_sig\u001b[0m\u001b[0;34m=\u001b[0m\u001b[0msig_WQ\u001b[0m\u001b[0;34m[\u001b[0m\u001b[0;34m~\u001b[0m\u001b[0mnp\u001b[0m\u001b[0;34m.\u001b[0m\u001b[0misnan\u001b[0m\u001b[0;34m(\u001b[0m\u001b[0msig_WQ\u001b[0m\u001b[0;34m)\u001b[0m\u001b[0;34m]\u001b[0m\u001b[0;34m\u001b[0m\u001b[0;34m\u001b[0m\u001b[0m\n\u001b[1;32m      7\u001b[0m     \u001b[0mmin_sWQ\u001b[0m\u001b[0;34m=\u001b[0m\u001b[0mnp\u001b[0m\u001b[0;34m.\u001b[0m\u001b[0mmin\u001b[0m\u001b[0;34m(\u001b[0m\u001b[0mnotnan_sig\u001b[0m\u001b[0;34m)\u001b[0m\u001b[0;34m\u001b[0m\u001b[0;34m\u001b[0m\u001b[0m\n\u001b[0;32m----> 8\u001b[0;31m     \u001b[0mnorm_dQ\u001b[0m\u001b[0;34m=\u001b[0m\u001b[0mnp\u001b[0m\u001b[0;34m.\u001b[0m\u001b[0mlinalg\u001b[0m\u001b[0;34m.\u001b[0m\u001b[0mnorm\u001b[0m\u001b[0;34m(\u001b[0m\u001b[0mBq\u001b[0m\u001b[0;34m.\u001b[0m\u001b[0mtocsr\u001b[0m\u001b[0;34m(\u001b[0m\u001b[0;34m)\u001b[0m\u001b[0;34m[\u001b[0m\u001b[0mQ\u001b[0m\u001b[0;34m,\u001b[0m\u001b[0mind\u001b[0m\u001b[0;34m(\u001b[0m\u001b[0mQ\u001b[0m\u001b[0;34m)\u001b[0m\u001b[0;34m]\u001b[0m\u001b[0;34m.\u001b[0m\u001b[0mtodense\u001b[0m\u001b[0;34m(\u001b[0m\u001b[0;34m)\u001b[0m\u001b[0;34m)\u001b[0m\u001b[0;34m**\u001b[0m\u001b[0;36m2\u001b[0m\u001b[0;34m\u001b[0m\u001b[0;34m\u001b[0m\u001b[0m\n\u001b[0m\u001b[1;32m      9\u001b[0m     \u001b[0mpossible_min_value\u001b[0m\u001b[0;34m.\u001b[0m\u001b[0mappend\u001b[0m\u001b[0;34m(\u001b[0m\u001b[0mmin_sWQ\u001b[0m\u001b[0;34m*\u001b[0m\u001b[0mnorm_dQ\u001b[0m\u001b[0;34m)\u001b[0m\u001b[0;34m\u001b[0m\u001b[0;34m\u001b[0m\u001b[0m\n\u001b[1;32m     10\u001b[0m \u001b[0;34m\u001b[0m\u001b[0m\n",
      "\u001b[0;31mTypeError\u001b[0m: 'numpy.ndarray' object is not callable"
     ]
    }
   ],
   "source": [
    "for Q in range(Bq.shape[1]):\n",
    "\n",
    "    boundary=ind[Q]\n",
    "    \n",
    "    sig_WQ=s[boundary]\n",
    "    notnan_sig=sig_WQ[~np.isnan(sig_WQ)]\n",
    "    min_sWQ=np.min(notnan_sig)\n",
    "    print( min_sWQ)\n",
    "    norm_dQ=np.linalg.norm(Bq.tocsr()[Q,ind(Q)].todense())**2\n",
    "    possible_min_value.append(min_sWQ*norm_dQ)\n",
    "\n",
    "\n",
    "    minimum=random.choice(np.where(notnan_sig==min_sWQ)[0])\n",
    "\n",
    "    idx_WQ_min=ind[Q][minimum]\n",
    "    possible_min_WQ.append(idx_WQ_min)\n"
   ]
  },
  {
   "cell_type": "code",
   "execution_count": null,
   "id": "9b24ff15",
   "metadata": {},
   "outputs": [],
   "source": [
    "\n",
    "\n",
    "\n",
    "for Q in range(Bq.shape[1]):\n",
    "\n",
    "    boundary=ind[Q]\n",
    "    sig_WQ=s[boundary]\n",
    "    notnan_sig=sig_WQ[~np.isnan(sig_WQ)]\n",
    "    min_sWQ=np.min(notnan_sig)\n",
    "    norm_dQ=np.linalg.norm(Bq.tocsr()[Q,ind(Q)].todense())**2\n",
    "    possible_min_value.append(min_sWQ*norm_dQ)\n",
    "\n",
    "\n",
    "    minimum=random.choice(np.where(notnan_sig==min_sWQ)[0])\n",
    "\n",
    "    idx_WQ_min=ind[Q][minimum]\n",
    "    possible_min_WQ.append(idx_WQ_min)\n",
    "\n",
    "global_min=np.min(possible_min_value)  \n",
    "q=random.choice(np.where(possible_min_value==global_min)[0])\n",
    "Wq=possible_min_q[q]\n",
    "\n",
    "return [[list(list(X[dimq].keys())[q]),list(list(X[dimq+1].keys())[Wq])]],global_min\n"
   ]
  },
  {
   "cell_type": "code",
   "execution_count": null,
   "id": "8037e617",
   "metadata": {},
   "outputs": [],
   "source": []
  },
  {
   "cell_type": "code",
   "execution_count": null,
   "id": "3d837018",
   "metadata": {},
   "outputs": [],
   "source": []
  }
 ],
 "metadata": {
  "kernelspec": {
   "display_name": "Python 3",
   "language": "python",
   "name": "python3"
  },
  "language_info": {
   "codemirror_mode": {
    "name": "ipython",
    "version": 3
   },
   "file_extension": ".py",
   "mimetype": "text/x-python",
   "name": "python",
   "nbconvert_exporter": "python",
   "pygments_lexer": "ipython3",
   "version": "3.9.4"
  }
 },
 "nbformat": 4,
 "nbformat_minor": 5
}
