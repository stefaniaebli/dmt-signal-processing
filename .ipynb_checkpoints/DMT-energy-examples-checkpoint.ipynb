{
 "cells": [
  {
   "cell_type": "code",
   "execution_count": 1,
   "id": "1db0690a",
   "metadata": {},
   "outputs": [],
   "source": [
    "import numpy as np\n",
    "from scipy import sparse\n",
    "from scipy.sparse import coo_matrix\n",
    "import gudhi as gd\n",
    "import dmtenergy as dmt"
   ]
  },
  {
   "cell_type": "markdown",
   "id": "6720bc4f",
   "metadata": {},
   "source": [
    "# DMT Energy\n",
    "\n",
    "This notebook shows some examples of how to compute the DMT-energy of a discrete vector field"
   ]
  },
  {
   "cell_type": "markdown",
   "id": "8a693e47",
   "metadata": {},
   "source": [
    "### Example 1: DMT energy of discrete vector field (dvf) in a triangle. \n",
    "\n",
    "The dvf is given by the pairing of the triangle and an edge\n"
   ]
  },
  {
   "cell_type": "code",
   "execution_count": 2,
   "id": "cda18c7d",
   "metadata": {},
   "outputs": [],
   "source": [
    "## Build triangle and its associat\n",
    "st=gd.SimplexTree()\n",
    "st.insert([0,1,2])\n",
    "X=dmt.extract_simplices(st)"
   ]
  },
  {
   "cell_type": "code",
   "execution_count": 3,
   "id": "c54e1d1a",
   "metadata": {},
   "outputs": [],
   "source": [
    "##dvf given by the pair (Q,WQ)\n",
    "Q=[1,2]\n",
    "WQ=[0,1,2]\n",
    "##Cell complex after collapsing the pair (Q,WQ)\n",
    "XQ=dmt.extract_xq(X,Q,WQ,1)"
   ]
  },
  {
   "cell_type": "code",
   "execution_count": 4,
   "id": "41d10565",
   "metadata": {},
   "outputs": [],
   "source": [
    "## Build boundaries of X\n",
    "kX=dmt.build_boundaries(X)"
   ]
  },
  {
   "cell_type": "code",
   "execution_count": 5,
   "id": "03416358",
   "metadata": {},
   "outputs": [
    {
     "name": "stdout",
     "output_type": "stream",
     "text": [
      "2.0\n"
     ]
    }
   ],
   "source": [
    "##Energy of the DVF\n",
    "e=dmt.energy(X,XQ,Q,WQ,1,kX)\n",
    "print(e)"
   ]
  },
  {
   "cell_type": "code",
   "execution_count": 6,
   "id": "39c6644b",
   "metadata": {},
   "outputs": [],
   "source": [
    "##If necessary one can compute the bondaries of XQ\n",
    "boundaries=dmt.build_Q_bounday(XQ,X,Q,WQ,1,kX)"
   ]
  },
  {
   "cell_type": "code",
   "execution_count": 7,
   "id": "c1751ecd",
   "metadata": {},
   "outputs": [
    {
     "name": "stdout",
     "output_type": "stream",
     "text": [
      "[[1. 0. 0. 0. 0.]\n",
      " [0. 1. 0. 0. 0.]\n",
      " [0. 0. 1. 0. 0.]\n",
      " [0. 0. 0. 1. 0.]\n",
      " [0. 0. 0. 0. 1.]\n",
      " [0. 0. 0. 0. 0.]\n",
      " [0. 0. 0. 0. 0.]]\n"
     ]
    }
   ],
   "source": [
    "## The chain equivalences psi and phi\n",
    "psi=dmt.psi(X,XQ,Q,WQ,1,kX)\n",
    "phi=dmt.phi(X,XQ,Q,WQ,1,kX)\n",
    "print(phi.toarray())"
   ]
  },
  {
   "cell_type": "markdown",
   "id": "393ce5cc",
   "metadata": {},
   "source": [
    "### Example 2: energy of discrete vector field (dvf) in 4 triangls attached by an edge. \n",
    "(add figure)\n",
    "The DVF is a sequence of 4 edges and triangles"
   ]
  },
  {
   "cell_type": "code",
   "execution_count": 53,
   "id": "0c48cd0b",
   "metadata": {},
   "outputs": [],
   "source": [
    "## Build the simplicial complex, extract the simplices and its boundary operators\n",
    "st1=gd.SimplexTree()\n",
    "st1.insert([0,1,2])\n",
    "st1.insert([1,2,3])\n",
    "#st1.insert([2,3,4])\n",
    "#st1.insert([3,4,5])\n",
    "\n",
    "\n",
    "Y=dmt.extract_simplices(st1)\n",
    "kY=dmt.build_boundaries(Y)"
   ]
  },
  {
   "cell_type": "code",
   "execution_count": 54,
   "id": "feab362d",
   "metadata": {},
   "outputs": [],
   "source": [
    "##DVF given by a sequence of edges and triangles\n",
    "collapses=[[[1,2],[0,1,2]],[[2,3],[1,2,3]],[[3],[1,3]],[[2],[0,2]]]#[[3,4],[2,3,4]],[[4,5],[3,4,5]]]\n",
    "\n",
    "dim_collapses=[len(collapses[j][0])-1 for j in range(len(collapses))]\n"
   ]
  },
  {
   "cell_type": "code",
   "execution_count": 55,
   "id": "1a0115de",
   "metadata": {},
   "outputs": [],
   "source": [
    "all_psi,all_phi, all_boundaries, all_complexes=dmt.sequence_collpases(Y,kY,collapses,dim_collapses)\n"
   ]
  },
  {
   "cell_type": "code",
   "execution_count": 56,
   "id": "28a1b6dd",
   "metadata": {},
   "outputs": [
    {
     "name": "stdout",
     "output_type": "stream",
     "text": [
      "3.4641016151377544\n"
     ]
    }
   ],
   "source": [
    "##Computet the energy and its matrix\n",
    "energy,mat_energy=dmt.energy_sequence(all_psi,all_phi)\n",
    "print(energy)"
   ]
  },
  {
   "cell_type": "code",
   "execution_count": 57,
   "id": "2bec65fa",
   "metadata": {},
   "outputs": [
    {
     "name": "stdout",
     "output_type": "stream",
     "text": [
      "8\n"
     ]
    }
   ],
   "source": [
    "## Energy matrix\n",
    "print(np.count_nonzero(np.diag(mat_energy.toarray())))"
   ]
  },
  {
   "cell_type": "markdown",
   "id": "586dd64e",
   "metadata": {},
   "source": [
    "### Example 3: energy of discrete vector field (dvf) in 5 triangls attached by an edge. \n",
    "(add figure)\n",
    "The DVF is a sequence of 4 edges and triangles"
   ]
  },
  {
   "cell_type": "code",
   "execution_count": 131,
   "id": "786e2188",
   "metadata": {},
   "outputs": [],
   "source": [
    "## Build the simplicial complex, extract the simplices and its boundary operators\n",
    "st2=gd.SimplexTree()\n",
    "st2.insert([0,1,2])\n",
    "st2.insert([1,2,3])\n",
    "st2.insert([2,3,4])\n",
    "st2.insert([3,4,5])\n",
    "st2.insert([4,5,6])\n",
    "\n",
    "\n",
    "Z=dmt.extract_simplices(st2)\n",
    "kZ=dmt.build_boundaries(Z)"
   ]
  },
  {
   "cell_type": "code",
   "execution_count": 132,
   "id": "c1ec4f27",
   "metadata": {},
   "outputs": [],
   "source": [
    "##DVF given by a sequence of edges and triangles\n",
    "collapsesZ=[[[5,6],[4,5,6]],[[6],[4,6]],[[4,5],[3,4,5]],[[5],[3,5]],[[3,4],[2,3,4]],[[4],[2,4]],[[2,3],[1,2,3]],[[3],[1,3]],[[1,2],[0,1,2]],[[1],[0,1]],[[2],[0,2]]]\n",
    "dim_collapsesZ=[len(collapsesZ[j][0])-1 for j in range(len(collapsesZ))]\n"
   ]
  },
  {
   "cell_type": "code",
   "execution_count": 133,
   "id": "77ac8f77",
   "metadata": {},
   "outputs": [],
   "source": [
    "all_psiZ,all_phiZ, all_boundariesZ, all_complexesZ=dmt.sequence_collpases(Z,kZ,collapsesZ,dim_collapsesZ)\n"
   ]
  },
  {
   "cell_type": "code",
   "execution_count": 134,
   "id": "f72b2f57",
   "metadata": {},
   "outputs": [
    {
     "name": "stdout",
     "output_type": "stream",
     "text": [
      "28.000000000000004\n"
     ]
    }
   ],
   "source": [
    "##Computet the energy and its matrix\n",
    "energyZ,mat_energyZ=dmt.energy_sequence(all_psiZ,all_phiZ)\n",
    "print(energyZ**2)"
   ]
  },
  {
   "cell_type": "code",
   "execution_count": 140,
   "id": "489a0dab",
   "metadata": {},
   "outputs": [],
   "source": [
    "m=mat_energyZ@mat_energyZ.T\n"
   ]
  },
  {
   "cell_type": "code",
   "execution_count": 127,
   "id": "860feafc",
   "metadata": {},
   "outputs": [],
   "source": [
    "## same example but starting the DVF from the second traingles\n",
    "##DVF given by a sequence of edges and triangles\n",
    "collapses1=[[[6],[4,6]],[[4,5],[3,4,5]],[[5],[3,5]],[[3,4],[2,3,4]],[[4],[2,4]],[[2,3],[1,2,3]],[[3],[1,3]],[[1,2],[0,1,2]],[[1],[0,1]],[[2],[0,2]]]\n",
    "dim_collapses1=[len(collapses1[j][0])-1 for j in range(len(collapses1))]\n",
    "all_psiZ1,all_phiZ1, all_boundariesZ1, all_complexesZ1=dmt.sequence_collpases(Z,kZ,collapses1,dim_collapses1)\n"
   ]
  },
  {
   "cell_type": "code",
   "execution_count": 121,
   "id": "6ad1bc58",
   "metadata": {},
   "outputs": [
    {
     "name": "stdout",
     "output_type": "stream",
     "text": [
      "36.0\n"
     ]
    }
   ],
   "source": [
    "##Computet the energy and its matrix\n",
    "energy1,mat_energy1=dmt.energy_sequence(all_psiZ1,all_phiZ1)\n",
    "print(energy1**2)"
   ]
  },
  {
   "cell_type": "code",
   "execution_count": null,
   "id": "fa5ec85c",
   "metadata": {},
   "outputs": [],
   "source": []
  },
  {
   "cell_type": "code",
   "execution_count": null,
   "id": "656b26ec",
   "metadata": {},
   "outputs": [],
   "source": []
  },
  {
   "cell_type": "code",
   "execution_count": null,
   "id": "b07b9867",
   "metadata": {},
   "outputs": [],
   "source": []
  },
  {
   "cell_type": "code",
   "execution_count": null,
   "id": "cc07c6ab",
   "metadata": {},
   "outputs": [],
   "source": []
  }
 ],
 "metadata": {
  "kernelspec": {
   "display_name": "Python 3",
   "language": "python",
   "name": "python3"
  },
  "language_info": {
   "codemirror_mode": {
    "name": "ipython",
    "version": 3
   },
   "file_extension": ".py",
   "mimetype": "text/x-python",
   "name": "python",
   "nbconvert_exporter": "python",
   "pygments_lexer": "ipython3",
   "version": "3.9.4"
  }
 },
 "nbformat": 4,
 "nbformat_minor": 5
}
