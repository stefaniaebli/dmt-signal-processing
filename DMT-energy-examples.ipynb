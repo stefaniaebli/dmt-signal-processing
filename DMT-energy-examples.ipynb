{
 "cells": [
  {
   "cell_type": "code",
   "execution_count": 1,
   "id": "1db0690a",
   "metadata": {},
   "outputs": [],
   "source": [
    "import numpy as np\n",
    "from scipy import sparse\n",
    "import scipy.sparse.linalg as sl\n",
    "\n",
    "from scipy.sparse import coo_matrix\n",
    "import gudhi as gd\n",
    "import dmtenergy as dmt\n"
   ]
  },
  {
   "cell_type": "markdown",
   "id": "6720bc4f",
   "metadata": {},
   "source": [
    "# DMT Energy\n",
    "\n",
    "This notebook shows some examples of how to compute the DMT-energy of a discrete vector field"
   ]
  },
  {
   "cell_type": "markdown",
   "id": "8a693e47",
   "metadata": {},
   "source": [
    "### Example 1: DMT energy of discrete vector field (dvf) in a triangle. \n",
    "\n",
    "The dvf is given by the pairing of the triangle and an edge\n"
   ]
  },
  {
   "cell_type": "code",
   "execution_count": 2,
   "id": "cda18c7d",
   "metadata": {},
   "outputs": [],
   "source": [
    "## Build triangle and its associat\n",
    "st=gd.SimplexTree()\n",
    "st.insert([0,1,2])\n",
    "X=dmt.extract_simplices(st)"
   ]
  },
  {
   "cell_type": "code",
   "execution_count": 3,
   "id": "c54e1d1a",
   "metadata": {},
   "outputs": [],
   "source": [
    "##dvf given by the pair (Q,WQ)\n",
    "Q=[1,2]\n",
    "WQ=[0,1,2]\n",
    "##Cell complex after collapsing the pair (Q,WQ)\n",
    "XQ=dmt.extract_xq(X,Q,WQ,1)"
   ]
  },
  {
   "cell_type": "code",
   "execution_count": 4,
   "id": "41d10565",
   "metadata": {},
   "outputs": [],
   "source": [
    "## Build boundaries of X\n",
    "kX=dmt.build_boundaries(X)"
   ]
  },
  {
   "cell_type": "code",
   "execution_count": 5,
   "id": "03416358",
   "metadata": {},
   "outputs": [
    {
     "name": "stdout",
     "output_type": "stream",
     "text": [
      "2.0\n"
     ]
    }
   ],
   "source": [
    "##Energy of the DVF\n",
    "e=dmt.energy(X,XQ,Q,WQ,1,kX)\n",
    "print(e)"
   ]
  },
  {
   "cell_type": "code",
   "execution_count": 6,
   "id": "39c6644b",
   "metadata": {},
   "outputs": [],
   "source": [
    "##If necessary one can compute the bondaries of XQ\n",
    "boundaries=dmt.build_Q_bounday(XQ,X,Q,WQ,1,kX)"
   ]
  },
  {
   "cell_type": "code",
   "execution_count": 7,
   "id": "c1751ecd",
   "metadata": {},
   "outputs": [
    {
     "name": "stdout",
     "output_type": "stream",
     "text": [
      "[[1. 0. 0. 0. 0.]\n",
      " [0. 1. 0. 0. 0.]\n",
      " [0. 0. 1. 0. 0.]\n",
      " [0. 0. 0. 1. 0.]\n",
      " [0. 0. 0. 0. 1.]\n",
      " [0. 0. 0. 0. 0.]\n",
      " [0. 0. 0. 0. 0.]]\n"
     ]
    }
   ],
   "source": [
    "## The chain equivalences psi and phi\n",
    "psi=dmt.psi(X,XQ,Q,WQ,1,kX)\n",
    "phi=dmt.phi(X,XQ,Q,WQ,1,kX)\n",
    "print(phi.toarray())"
   ]
  },
  {
   "cell_type": "markdown",
   "id": "393ce5cc",
   "metadata": {},
   "source": [
    "### Example 2: energy of discrete vector field (dvf) in 4 triangls attached by an edge. \n",
    "(add figure)\n",
    "The DVF is a sequence of 4 edges and triangles"
   ]
  },
  {
   "cell_type": "code",
   "execution_count": 8,
   "id": "0c48cd0b",
   "metadata": {},
   "outputs": [],
   "source": [
    "## Build the simplicial complex, extract the simplices and its boundary operators\n",
    "st1=gd.SimplexTree()\n",
    "st1.insert([0,1,2])\n",
    "st1.insert([1,2,3])\n",
    "st1.insert([2,3,4])\n",
    "st1.insert([3,4,5])\n",
    "\n",
    "\n",
    "Y=dmt.extract_simplices(st1)\n",
    "kY=dmt.build_boundaries(Y)"
   ]
  },
  {
   "cell_type": "code",
   "execution_count": 9,
   "id": "feab362d",
   "metadata": {},
   "outputs": [],
   "source": [
    "##DVF given by a sequence of edges and triangles\n",
    "collapses=[[[1,2],[0,1,2]],[[2,3],[1,2,3]],[[3],[1,3]],[[2],[0,2]],[[3,4],[2,3,4]],[[4,5],[3,4,5]]]\n",
    "\n",
    "dim_collapses=[len(collapses[j][0])-1 for j in range(len(collapses))]\n"
   ]
  },
  {
   "cell_type": "code",
   "execution_count": 10,
   "id": "1a0115de",
   "metadata": {},
   "outputs": [],
   "source": [
    "all_psi,all_phi, all_boundaries, all_complexes=dmt.sequence_collpases(Y,kY,collapses,dim_collapses)\n"
   ]
  },
  {
   "cell_type": "code",
   "execution_count": 11,
   "id": "28a1b6dd",
   "metadata": {},
   "outputs": [
    {
     "name": "stdout",
     "output_type": "stream",
     "text": [
      "5.0990195135927845\n"
     ]
    }
   ],
   "source": [
    "##Computet the energy and its matrix\n",
    "energy,mat_energy=dmt.energy_sequence(all_psi,all_phi)\n",
    "print(energy)"
   ]
  },
  {
   "cell_type": "code",
   "execution_count": 12,
   "id": "2bec65fa",
   "metadata": {},
   "outputs": [
    {
     "name": "stdout",
     "output_type": "stream",
     "text": [
      "12\n"
     ]
    }
   ],
   "source": [
    "## Energy matrix\n",
    "print(np.count_nonzero(np.diag(mat_energy.toarray())))"
   ]
  },
  {
   "cell_type": "markdown",
   "id": "586dd64e",
   "metadata": {},
   "source": [
    "### Example 3: energy of discrete vector field (dvf) in 5 triangls attached by an edge. \n",
    "(add figure)\n",
    "The DVF is a sequence of 4 edges and triangles"
   ]
  },
  {
   "cell_type": "code",
   "execution_count": 13,
   "id": "786e2188",
   "metadata": {},
   "outputs": [],
   "source": [
    "## Build the simplicial complex, extract the simplices and its boundary operators\n",
    "st2=gd.SimplexTree()\n",
    "st2.insert([0,1,2])\n",
    "st2.insert([1,2,3])\n",
    "st2.insert([2,3,4])\n",
    "st2.insert([3,4,5])\n",
    "st2.insert([4,5,6])\n",
    "\n",
    "\n",
    "Z=dmt.extract_simplices(st2)\n",
    "kZ=dmt.build_boundaries(Z)"
   ]
  },
  {
   "cell_type": "code",
   "execution_count": 14,
   "id": "c1ec4f27",
   "metadata": {},
   "outputs": [],
   "source": [
    "##DVF given by a sequence of edges and triangles\n",
    "#collapsesZ=[[[5,6],[4,5,6]],[[6],[4,6]],[[4,5],[3,4,5]],[[5],[3,5]],[[3,4],[2,3,4]],[[4],[2,4]],[[2,3],[1,2,3]],[[3],[1,3]],[[1,2],[0,1,2]],[[1],[0,1]],[[2],[0,2]]]\n",
    "collapsesZ=[[[3,4],[2,3,4]],[[4],[2,4]],[[2,3],[1,2,3]],[[3],[1,3]],[[1,2],[0,1,2]],[[1],[0,1]],[[2],[0,2]]]\n",
    "\n",
    "dim_collapsesZ=[len(collapsesZ[j][0])-1 for j in range(len(collapsesZ))]\n"
   ]
  },
  {
   "cell_type": "code",
   "execution_count": 15,
   "id": "77ac8f77",
   "metadata": {},
   "outputs": [],
   "source": [
    "all_psiZ,all_phiZ, all_boundariesZ, all_complexesZ=dmt.sequence_collpases(Z,kZ,collapsesZ,dim_collapsesZ)\n"
   ]
  },
  {
   "cell_type": "code",
   "execution_count": 16,
   "id": "f72b2f57",
   "metadata": {},
   "outputs": [
    {
     "name": "stdout",
     "output_type": "stream",
     "text": [
      "27.0\n"
     ]
    }
   ],
   "source": [
    "##Computet the energy and its matrix\n",
    "energyZ,mat_energyZ=dmt.energy_sequence(all_psiZ,all_phiZ)\n",
    "print(energyZ**2)"
   ]
  },
  {
   "cell_type": "code",
   "execution_count": 17,
   "id": "d701e7eb",
   "metadata": {},
   "outputs": [],
   "source": [
    "m=mat_energyZ@mat_energyZ.T\n"
   ]
  },
  {
   "cell_type": "code",
   "execution_count": 18,
   "id": "103d2080",
   "metadata": {},
   "outputs": [],
   "source": [
    "## same example but starting the DVF from the second traingles\n",
    "##DVF given by a sequence of edges and triangles\n",
    "collapses1=[[[6],[4,6]],[[4,5],[3,4,5]],[[5],[3,5]],[[3,4],[2,3,4]],[[4],[2,4]],[[2,3],[1,2,3]],[[3],[1,3]],[[1,2],[0,1,2]],[[1],[0,1]],[[2],[0,2]]]\n",
    "dim_collapses1=[len(collapses1[j][0])-1 for j in range(len(collapses1))]\n",
    "all_psiZ1,all_phiZ1, all_boundariesZ1, all_complexesZ1=dmt.sequence_collpases(Z,kZ,collapses1,dim_collapses1)\n"
   ]
  },
  {
   "cell_type": "code",
   "execution_count": 19,
   "id": "5cd80c60",
   "metadata": {},
   "outputs": [
    {
     "name": "stdout",
     "output_type": "stream",
     "text": [
      "36.0\n"
     ]
    }
   ],
   "source": [
    "##Computet the energy and its matrix\n",
    "energy1,mat_energy1=dmt.energy_sequence(all_psiZ1,all_phiZ1)\n",
    "print(energy1**2)"
   ]
  },
  {
   "cell_type": "markdown",
   "id": "bd4bcfbf",
   "metadata": {},
   "source": [
    "## example multiple paths"
   ]
  },
  {
   "cell_type": "code",
   "execution_count": 20,
   "id": "e51c7d71",
   "metadata": {},
   "outputs": [],
   "source": [
    "## Build the simplicial complex, extract the simplices and its boundary operators\n",
    "st3=gd.SimplexTree()\n",
    "st3.insert([0,1,2])\n",
    "st3.insert([0,2,3])\n",
    "st3.insert([1,2,3])\n",
    "st3.insert([0,1,6])\n",
    "\n",
    "#st3.insert([0,1,2])\n",
    "#st3.insert([0,2,4])\n",
    "#st3.insert([2,4,3])\n",
    "#st3.insert([1,2,3])\n",
    "\n",
    "S=dmt.extract_simplices(st3)\n",
    "kS=dmt.build_boundaries(S)"
   ]
  },
  {
   "cell_type": "code",
   "execution_count": 21,
   "id": "c63e052a",
   "metadata": {},
   "outputs": [],
   "source": [
    "collapsesS=[[[1,6],[0,1,6]],[[0,1],[0,1,2]],[[0,2],[0,2,3]],[[1,2],[1,2,3]]]\n",
    "#collapsesS=[[[0,1],[0,1,2]],[[0,2],[0,2,4]],[[4,2],[2,4,3]],[[1,2],[1,2,3]]]\n",
    "dim_collapsesS=[len(collapsesS[j][0])-1 for j in range(len(collapsesS))]"
   ]
  },
  {
   "cell_type": "code",
   "execution_count": 22,
   "id": "f5ca0a94",
   "metadata": {},
   "outputs": [],
   "source": [
    "all_psiS,all_phiS, all_boundariesS, all_complexesS=dmt.sequence_collpases(S,kS,collapsesS,dim_collapsesS)"
   ]
  },
  {
   "cell_type": "code",
   "execution_count": 23,
   "id": "1f205fc2",
   "metadata": {},
   "outputs": [
    {
     "name": "stdout",
     "output_type": "stream",
     "text": [
      "17.0\n"
     ]
    }
   ],
   "source": [
    "##Computet the energy and its matrix\n",
    "energyS,mat_energyS=dmt.energy_sequence(all_psiS,all_phiS)\n",
    "print(energyS**2)"
   ]
  },
  {
   "cell_type": "markdown",
   "id": "77dd6773",
   "metadata": {},
   "source": [
    "### Preserving Harmonic?"
   ]
  },
  {
   "cell_type": "code",
   "execution_count": 226,
   "id": "44dcc328",
   "metadata": {},
   "outputs": [],
   "source": [
    "## Build the simplicial complex, extract the simplices and its boundary operators\n",
    "st4=gd.SimplexTree()\n",
    "st4.insert([1,2,3])\n",
    "st4.insert([2,3,4])\n",
    "\n",
    "\n",
    "st4.insert([0,1])\n",
    "st4.insert([0,2])\n",
    "\n",
    "\n",
    "\n",
    "H=dmt.extract_simplices(st4)\n",
    "kH=dmt.build_boundaries(H)"
   ]
  },
  {
   "cell_type": "code",
   "execution_count": 227,
   "id": "b8c4dec4",
   "metadata": {},
   "outputs": [],
   "source": [
    "collapsesH=[[[1,2],[1,2,3]],[[2,3],[2,3,4]]]\n",
    "dim_collapsesH=[len(collapsesH[j][0])-1 for j in range(len(collapsesH))]"
   ]
  },
  {
   "cell_type": "code",
   "execution_count": 228,
   "id": "6a7374c2",
   "metadata": {},
   "outputs": [],
   "source": [
    "all_psiH,all_phiH, all_boundariesH, all_complexesH=dmt.sequence_collpases(H,kH,collapsesH,dim_collapsesH)"
   ]
  },
  {
   "cell_type": "code",
   "execution_count": 229,
   "id": "dc9c9f66",
   "metadata": {},
   "outputs": [],
   "source": [
    "lap1=dmt.build_laplacians(all_boundariesH[0])\n",
    "lap2=dmt.build_laplacians(all_boundariesH[1])\n",
    "lap3=dmt.build_laplacians(all_boundariesH[2])"
   ]
  },
  {
   "cell_type": "code",
   "execution_count": 230,
   "id": "6f20b6c0",
   "metadata": {},
   "outputs": [
    {
     "data": {
      "text/plain": [
       "(7, 8)"
      ]
     },
     "execution_count": 230,
     "metadata": {},
     "output_type": "execute_result"
    }
   ],
   "source": [
    "psi=all_psiH[0].toarray()\n",
    "psi1=psi[len(all_complexesH[1][0]):len(all_complexesH[1][0])+len(all_complexesH[1][1]),len(all_complexesH[0][0]):len(all_complexesH[0][0])+len(all_complexesH[0][1])]\n",
    "psi1.shape\n",
    "\n",
    "#psi2=psi[-len(all_complexesH[1][2]):,-len(all_complexesH[0][2]):]\n",
    "\n",
    "psi_1=all_psiH[1].toarray()\n",
    "psi11=psi_1[len(all_complexesH[2][0]):len(all_complexesH[2][0])+len(all_complexesH[2][1]),len(all_complexesH[1][0]):len(all_complexesH[1][0])+len(all_complexesH[1][1])]\n",
    "psi11.shape"
   ]
  },
  {
   "cell_type": "code",
   "execution_count": 231,
   "id": "c00405b5",
   "metadata": {},
   "outputs": [],
   "source": [
    "val,vec=sl.eigsh(lap1[1], 2, which='SM')\n",
    "newh=psi11@psi1@vec[:,0]\n",
    "#newh=psi1@vec[:,0]"
   ]
  },
  {
   "cell_type": "code",
   "execution_count": 232,
   "id": "d38307c0",
   "metadata": {},
   "outputs": [],
   "source": [
    "val2,vec2=sl.eigsh(lap2[1], 2, which='SM')"
   ]
  },
  {
   "cell_type": "code",
   "execution_count": 233,
   "id": "9291effe",
   "metadata": {},
   "outputs": [
    {
     "data": {
      "text/plain": [
       "3.6568616e-07"
      ]
     },
     "execution_count": 233,
     "metadata": {},
     "output_type": "execute_result"
    }
   ],
   "source": [
    "np.linalg.norm(lap3[1]@newh)"
   ]
  },
  {
   "cell_type": "code",
   "execution_count": 234,
   "id": "8f438ad2",
   "metadata": {},
   "outputs": [
    {
     "data": {
      "text/plain": [
       "array([[0., 1.]], dtype=float32)"
      ]
     },
     "execution_count": 234,
     "metadata": {},
     "output_type": "execute_result"
    }
   ],
   "source": [
    "psi2"
   ]
  },
  {
   "cell_type": "code",
   "execution_count": 235,
   "id": "297005de",
   "metadata": {},
   "outputs": [
    {
     "data": {
      "text/plain": [
       "array([[ 0.,  0.,  0., -1.,  0.,  0.,  1., -1.,  1.]], dtype=float32)"
      ]
     },
     "execution_count": 235,
     "metadata": {},
     "output_type": "execute_result"
    }
   ],
   "source": [
    "all_boundariesH[1][1].T@psi1"
   ]
  },
  {
   "cell_type": "code",
   "execution_count": 236,
   "id": "973d60b8",
   "metadata": {},
   "outputs": [
    {
     "data": {
      "text/plain": [
       "array([-2.9802322e-08], dtype=float32)"
      ]
     },
     "execution_count": 236,
     "metadata": {},
     "output_type": "execute_result"
    }
   ],
   "source": [
    "psi2@all_boundariesH[0][1].T@vec[:,0]"
   ]
  },
  {
   "cell_type": "code",
   "execution_count": 237,
   "id": "b1325c66",
   "metadata": {},
   "outputs": [
    {
     "data": {
      "text/plain": [
       "{frozenset({0}): 0,\n",
       " frozenset({1}): 1,\n",
       " frozenset({2}): 2,\n",
       " frozenset({3}): 3,\n",
       " frozenset({4}): 4,\n",
       " frozenset({5}): 5,\n",
       " frozenset({0, 1}): 6,\n",
       " frozenset({0, 2}): 7,\n",
       " frozenset({0, 5}): 8,\n",
       " frozenset({1, 2}): 9,\n",
       " frozenset({1, 3}): 10,\n",
       " frozenset({1, 5}): 11,\n",
       " frozenset({2, 3}): 12,\n",
       " frozenset({2, 4}): 13,\n",
       " frozenset({3, 4}): 14,\n",
       " frozenset({1, 2, 3}): 15,\n",
       " frozenset({2, 3, 4}): 16}"
      ]
     },
     "execution_count": 237,
     "metadata": {},
     "output_type": "execute_result"
    }
   ],
   "source": [
    "dmt.extract_total_order(H)"
   ]
  },
  {
   "cell_type": "code",
   "execution_count": 111,
   "id": "0cd5d75f",
   "metadata": {
    "collapsed": true
   },
   "outputs": [
    {
     "data": {
      "text/plain": [
       "array([[0., 1.]], dtype=float32)"
      ]
     },
     "execution_count": 111,
     "metadata": {},
     "output_type": "execute_result"
    }
   ],
   "source": [
    "psid[-1:,-2:]"
   ]
  },
  {
   "cell_type": "code",
   "execution_count": null,
   "id": "d25211bc",
   "metadata": {},
   "outputs": [],
   "source": []
  }
 ],
 "metadata": {
  "kernelspec": {
   "display_name": "Python 3",
   "language": "python",
   "name": "python3"
  },
  "language_info": {
   "codemirror_mode": {
    "name": "ipython",
    "version": 3
   },
   "file_extension": ".py",
   "mimetype": "text/x-python",
   "name": "python",
   "nbconvert_exporter": "python",
   "pygments_lexer": "ipython3",
   "version": "3.9.4"
  }
 },
 "nbformat": 4,
 "nbformat_minor": 5
}
